{
 "cells": [
  {
   "cell_type": "code",
   "execution_count": null,
   "metadata": {},
   "outputs": [],
   "source": [
    "import pandas as pd\n",
    "import numpy as np\n",
    "import matplotlib.pyplot as plt\n",
    "import seaborn as sns\n",
    "import regex as re"
   ]
  },
  {
   "cell_type": "code",
   "execution_count": null,
   "metadata": {},
   "outputs": [
    {
     "name": "stderr",
     "output_type": "stream",
     "text": [
      "/var/folders/rd/rm1ghq0950j6l712s6ykcc5w0000gn/T/ipykernel_37351/2927016486.py:1: DtypeWarning: Columns (17) have mixed types. Specify dtype option on import or set low_memory=False.\n",
      "  df = pd.read_csv('depi.csv')\n"
     ]
    }
   ],
   "source": [
    "df = pd.read_csv('depi.csv')"
   ]
  },
  {
   "cell_type": "code",
   "execution_count": null,
   "metadata": {},
   "outputs": [
    {
     "name": "stdout",
     "output_type": "stream",
     "text": [
      "<class 'pandas.core.frame.DataFrame'>\n",
      "RangeIndex: 80511 entries, 0 to 80510\n",
      "Data columns (total 48 columns):\n",
      " #   Column                       Non-Null Count  Dtype  \n",
      "---  ------                       --------------  -----  \n",
      " 0   Name                         80511 non-null  object \n",
      " 1   Financial Status             24894 non-null  object \n",
      " 2   Paid at                      15806 non-null  object \n",
      " 3   Fulfillment Status           24894 non-null  object \n",
      " 4   Fulfilled at                 14829 non-null  object \n",
      " 5   Currency                     24894 non-null  object \n",
      " 6   Subtotal                     24894 non-null  float64\n",
      " 7   Shipping                     24894 non-null  float64\n",
      " 8   Taxes                        24894 non-null  float64\n",
      " 9   Total                        24894 non-null  float64\n",
      " 10  Discount Amount              24894 non-null  float64\n",
      " 11  Shipping Method              23678 non-null  object \n",
      " 12  Created at                   80511 non-null  object \n",
      " 13  Lineitem quantity            80511 non-null  int64  \n",
      " 14  Lineitem name                80511 non-null  object \n",
      " 15  Lineitem price               80511 non-null  float64\n",
      " 16  Lineitem compare at price    54219 non-null  float64\n",
      " 17  Lineitem sku                 78634 non-null  object \n",
      " 18  Lineitem requires shipping   80511 non-null  bool   \n",
      " 19  Lineitem taxable             80511 non-null  bool   \n",
      " 20  Lineitem fulfillment status  80511 non-null  object \n",
      " 21  Billing City                 24053 non-null  object \n",
      " 22  Billing Zip                  14452 non-null  object \n",
      " 23  Billing Province             24683 non-null  object \n",
      " 24  Billing Country              24849 non-null  object \n",
      " 25  Shipping City                24111 non-null  object \n",
      " 26  Shipping Province            24741 non-null  object \n",
      " 27  Shipping Country             24868 non-null  object \n",
      " 28  Cancelled at                 3361 non-null   object \n",
      " 29  Payment Method               24738 non-null  object \n",
      " 30  Refunded Amount              24894 non-null  float64\n",
      " 31  Tags                         13428 non-null  object \n",
      " 32  Risk Level                   24894 non-null  object \n",
      " 33  Source                       24894 non-null  object \n",
      " 34  Lineitem discount            80511 non-null  float64\n",
      " 35  Tax 1 Name                   0 non-null      float64\n",
      " 36  Tax 1 Value                  0 non-null      float64\n",
      " 37  Tax 2 Name                   0 non-null      float64\n",
      " 38  Tax 2 Value                  0 non-null      float64\n",
      " 39  Tax 3 Name                   0 non-null      float64\n",
      " 40  Tax 3 Value                  0 non-null      float64\n",
      " 41  Tax 4 Name                   0 non-null      float64\n",
      " 42  Tax 4 Value                  0 non-null      float64\n",
      " 43  Tax 5 Name                   0 non-null      float64\n",
      " 44  Tax 5 Value                  0 non-null      float64\n",
      " 45  Duties                       0 non-null      float64\n",
      " 46  Billing Province Name        24683 non-null  object \n",
      " 47  Shipping Province Name       24741 non-null  object \n",
      "dtypes: bool(2), float64(20), int64(1), object(25)\n",
      "memory usage: 28.4+ MB\n"
     ]
    }
   ],
   "source": [
    "df.info()\n"
   ]
  },
  {
   "cell_type": "code",
   "execution_count": 4,
   "metadata": {},
   "outputs": [
    {
     "data": {
      "application/vnd.microsoft.datawrangler.viewer.v0+json": {
       "columns": [
        {
         "name": "index",
         "rawType": "object",
         "type": "string"
        },
        {
         "name": "Subtotal",
         "rawType": "float64",
         "type": "float"
        },
        {
         "name": "Shipping",
         "rawType": "float64",
         "type": "float"
        },
        {
         "name": "Taxes",
         "rawType": "float64",
         "type": "float"
        },
        {
         "name": "Total",
         "rawType": "float64",
         "type": "float"
        },
        {
         "name": "Discount Amount",
         "rawType": "float64",
         "type": "float"
        },
        {
         "name": "Lineitem quantity",
         "rawType": "float64",
         "type": "float"
        },
        {
         "name": "Lineitem price",
         "rawType": "float64",
         "type": "float"
        },
        {
         "name": "Lineitem compare at price",
         "rawType": "float64",
         "type": "float"
        },
        {
         "name": "Refunded Amount",
         "rawType": "float64",
         "type": "float"
        },
        {
         "name": "Lineitem discount",
         "rawType": "float64",
         "type": "float"
        },
        {
         "name": "Tax 1 Name",
         "rawType": "float64",
         "type": "float"
        },
        {
         "name": "Tax 1 Value",
         "rawType": "float64",
         "type": "float"
        },
        {
         "name": "Tax 2 Name",
         "rawType": "float64",
         "type": "float"
        },
        {
         "name": "Tax 2 Value",
         "rawType": "float64",
         "type": "float"
        },
        {
         "name": "Tax 3 Name",
         "rawType": "float64",
         "type": "float"
        },
        {
         "name": "Tax 3 Value",
         "rawType": "float64",
         "type": "float"
        },
        {
         "name": "Tax 4 Name",
         "rawType": "float64",
         "type": "float"
        },
        {
         "name": "Tax 4 Value",
         "rawType": "float64",
         "type": "float"
        },
        {
         "name": "Tax 5 Name",
         "rawType": "float64",
         "type": "float"
        },
        {
         "name": "Tax 5 Value",
         "rawType": "float64",
         "type": "float"
        },
        {
         "name": "Duties",
         "rawType": "float64",
         "type": "float"
        }
       ],
       "conversionMethod": "pd.DataFrame",
       "ref": "caff8e1a-2d97-4cef-b3c8-753d69885136",
       "rows": [
        [
         "count",
         "24894.0",
         "24894.0",
         "24894.0",
         "24894.0",
         "24894.0",
         "80511.0",
         "80511.0",
         "54219.0",
         "24894.0",
         "80511.0",
         "0.0",
         "0.0",
         "0.0",
         "0.0",
         "0.0",
         "0.0",
         "0.0",
         "0.0",
         "0.0",
         "0.0",
         "0.0"
        ],
        [
         "mean",
         "1800.3141961918536",
         "44.30584076484294",
         "0.0",
         "1844.6481561822125",
         "426.8028673575962",
         "1.3796996683682976",
         "572.4486227968849",
         "594.2793832420369",
         "18.398876034385797",
         "126.96067382096857",
         null,
         null,
         null,
         null,
         null,
         null,
         null,
         null,
         null,
         null,
         null
        ],
        [
         "std",
         "2157.7776931950243",
         "45.78988954215594",
         "0.0",
         "2151.154461080199",
         "1064.76056606905",
         "1.1479357848398037",
         "607.1312806865125",
         "864.1028633057099",
         "216.0122846904435",
         "380.948653076004",
         null,
         null,
         null,
         null,
         null,
         null,
         null,
         null,
         null,
         null,
         null
        ],
        [
         "min",
         "0.0",
         "0.0",
         "0.0",
         "0.0",
         "0.0",
         "1.0",
         "0.0",
         "0.0",
         "0.0",
         "0.0",
         null,
         null,
         null,
         null,
         null,
         null,
         null,
         null,
         null,
         null,
         null
        ],
        [
         "25%",
         "615.0",
         "0.0",
         "0.0",
         "660.0",
         "0.0",
         "1.0",
         "200.0",
         "0.0",
         "0.0",
         "0.0",
         null,
         null,
         null,
         null,
         null,
         null,
         null,
         null,
         null,
         null,
         null
        ],
        [
         "50%",
         "1189.0",
         "50.0",
         "0.0",
         "1210.0",
         "0.0",
         "1.0",
         "372.0",
         "285.0",
         "0.0",
         "0.0",
         null,
         null,
         null,
         null,
         null,
         null,
         null,
         null,
         null,
         null,
         null
        ],
        [
         "75%",
         "2200.0",
         "60.0",
         "0.0",
         "2230.0",
         "400.0",
         "1.0",
         "700.0",
         "730.0",
         "0.0",
         "0.0",
         null,
         null,
         null,
         null,
         null,
         null,
         null,
         null,
         null,
         null,
         null
        ],
        [
         "max",
         "54091.0",
         "703.0",
         "0.0",
         "54091.0",
         "55837.34",
         "100.0",
         "15602.74",
         "15602.74",
         "10150.0",
         "11467.0",
         null,
         null,
         null,
         null,
         null,
         null,
         null,
         null,
         null,
         null,
         null
        ]
       ],
       "shape": {
        "columns": 21,
        "rows": 8
       }
      },
      "text/html": [
       "<div>\n",
       "<style scoped>\n",
       "    .dataframe tbody tr th:only-of-type {\n",
       "        vertical-align: middle;\n",
       "    }\n",
       "\n",
       "    .dataframe tbody tr th {\n",
       "        vertical-align: top;\n",
       "    }\n",
       "\n",
       "    .dataframe thead th {\n",
       "        text-align: right;\n",
       "    }\n",
       "</style>\n",
       "<table border=\"1\" class=\"dataframe\">\n",
       "  <thead>\n",
       "    <tr style=\"text-align: right;\">\n",
       "      <th></th>\n",
       "      <th>Subtotal</th>\n",
       "      <th>Shipping</th>\n",
       "      <th>Taxes</th>\n",
       "      <th>Total</th>\n",
       "      <th>Discount Amount</th>\n",
       "      <th>Lineitem quantity</th>\n",
       "      <th>Lineitem price</th>\n",
       "      <th>Lineitem compare at price</th>\n",
       "      <th>Refunded Amount</th>\n",
       "      <th>Lineitem discount</th>\n",
       "      <th>...</th>\n",
       "      <th>Tax 1 Value</th>\n",
       "      <th>Tax 2 Name</th>\n",
       "      <th>Tax 2 Value</th>\n",
       "      <th>Tax 3 Name</th>\n",
       "      <th>Tax 3 Value</th>\n",
       "      <th>Tax 4 Name</th>\n",
       "      <th>Tax 4 Value</th>\n",
       "      <th>Tax 5 Name</th>\n",
       "      <th>Tax 5 Value</th>\n",
       "      <th>Duties</th>\n",
       "    </tr>\n",
       "  </thead>\n",
       "  <tbody>\n",
       "    <tr>\n",
       "      <th>count</th>\n",
       "      <td>24894.000000</td>\n",
       "      <td>24894.000000</td>\n",
       "      <td>24894.0</td>\n",
       "      <td>24894.000000</td>\n",
       "      <td>24894.000000</td>\n",
       "      <td>80511.000000</td>\n",
       "      <td>80511.000000</td>\n",
       "      <td>54219.000000</td>\n",
       "      <td>24894.000000</td>\n",
       "      <td>80511.000000</td>\n",
       "      <td>...</td>\n",
       "      <td>0.0</td>\n",
       "      <td>0.0</td>\n",
       "      <td>0.0</td>\n",
       "      <td>0.0</td>\n",
       "      <td>0.0</td>\n",
       "      <td>0.0</td>\n",
       "      <td>0.0</td>\n",
       "      <td>0.0</td>\n",
       "      <td>0.0</td>\n",
       "      <td>0.0</td>\n",
       "    </tr>\n",
       "    <tr>\n",
       "      <th>mean</th>\n",
       "      <td>1800.314196</td>\n",
       "      <td>44.305841</td>\n",
       "      <td>0.0</td>\n",
       "      <td>1844.648156</td>\n",
       "      <td>426.802867</td>\n",
       "      <td>1.379700</td>\n",
       "      <td>572.448623</td>\n",
       "      <td>594.279383</td>\n",
       "      <td>18.398876</td>\n",
       "      <td>126.960674</td>\n",
       "      <td>...</td>\n",
       "      <td>NaN</td>\n",
       "      <td>NaN</td>\n",
       "      <td>NaN</td>\n",
       "      <td>NaN</td>\n",
       "      <td>NaN</td>\n",
       "      <td>NaN</td>\n",
       "      <td>NaN</td>\n",
       "      <td>NaN</td>\n",
       "      <td>NaN</td>\n",
       "      <td>NaN</td>\n",
       "    </tr>\n",
       "    <tr>\n",
       "      <th>std</th>\n",
       "      <td>2157.777693</td>\n",
       "      <td>45.789890</td>\n",
       "      <td>0.0</td>\n",
       "      <td>2151.154461</td>\n",
       "      <td>1064.760566</td>\n",
       "      <td>1.147936</td>\n",
       "      <td>607.131281</td>\n",
       "      <td>864.102863</td>\n",
       "      <td>216.012285</td>\n",
       "      <td>380.948653</td>\n",
       "      <td>...</td>\n",
       "      <td>NaN</td>\n",
       "      <td>NaN</td>\n",
       "      <td>NaN</td>\n",
       "      <td>NaN</td>\n",
       "      <td>NaN</td>\n",
       "      <td>NaN</td>\n",
       "      <td>NaN</td>\n",
       "      <td>NaN</td>\n",
       "      <td>NaN</td>\n",
       "      <td>NaN</td>\n",
       "    </tr>\n",
       "    <tr>\n",
       "      <th>min</th>\n",
       "      <td>0.000000</td>\n",
       "      <td>0.000000</td>\n",
       "      <td>0.0</td>\n",
       "      <td>0.000000</td>\n",
       "      <td>0.000000</td>\n",
       "      <td>1.000000</td>\n",
       "      <td>0.000000</td>\n",
       "      <td>0.000000</td>\n",
       "      <td>0.000000</td>\n",
       "      <td>0.000000</td>\n",
       "      <td>...</td>\n",
       "      <td>NaN</td>\n",
       "      <td>NaN</td>\n",
       "      <td>NaN</td>\n",
       "      <td>NaN</td>\n",
       "      <td>NaN</td>\n",
       "      <td>NaN</td>\n",
       "      <td>NaN</td>\n",
       "      <td>NaN</td>\n",
       "      <td>NaN</td>\n",
       "      <td>NaN</td>\n",
       "    </tr>\n",
       "    <tr>\n",
       "      <th>25%</th>\n",
       "      <td>615.000000</td>\n",
       "      <td>0.000000</td>\n",
       "      <td>0.0</td>\n",
       "      <td>660.000000</td>\n",
       "      <td>0.000000</td>\n",
       "      <td>1.000000</td>\n",
       "      <td>200.000000</td>\n",
       "      <td>0.000000</td>\n",
       "      <td>0.000000</td>\n",
       "      <td>0.000000</td>\n",
       "      <td>...</td>\n",
       "      <td>NaN</td>\n",
       "      <td>NaN</td>\n",
       "      <td>NaN</td>\n",
       "      <td>NaN</td>\n",
       "      <td>NaN</td>\n",
       "      <td>NaN</td>\n",
       "      <td>NaN</td>\n",
       "      <td>NaN</td>\n",
       "      <td>NaN</td>\n",
       "      <td>NaN</td>\n",
       "    </tr>\n",
       "    <tr>\n",
       "      <th>50%</th>\n",
       "      <td>1189.000000</td>\n",
       "      <td>50.000000</td>\n",
       "      <td>0.0</td>\n",
       "      <td>1210.000000</td>\n",
       "      <td>0.000000</td>\n",
       "      <td>1.000000</td>\n",
       "      <td>372.000000</td>\n",
       "      <td>285.000000</td>\n",
       "      <td>0.000000</td>\n",
       "      <td>0.000000</td>\n",
       "      <td>...</td>\n",
       "      <td>NaN</td>\n",
       "      <td>NaN</td>\n",
       "      <td>NaN</td>\n",
       "      <td>NaN</td>\n",
       "      <td>NaN</td>\n",
       "      <td>NaN</td>\n",
       "      <td>NaN</td>\n",
       "      <td>NaN</td>\n",
       "      <td>NaN</td>\n",
       "      <td>NaN</td>\n",
       "    </tr>\n",
       "    <tr>\n",
       "      <th>75%</th>\n",
       "      <td>2200.000000</td>\n",
       "      <td>60.000000</td>\n",
       "      <td>0.0</td>\n",
       "      <td>2230.000000</td>\n",
       "      <td>400.000000</td>\n",
       "      <td>1.000000</td>\n",
       "      <td>700.000000</td>\n",
       "      <td>730.000000</td>\n",
       "      <td>0.000000</td>\n",
       "      <td>0.000000</td>\n",
       "      <td>...</td>\n",
       "      <td>NaN</td>\n",
       "      <td>NaN</td>\n",
       "      <td>NaN</td>\n",
       "      <td>NaN</td>\n",
       "      <td>NaN</td>\n",
       "      <td>NaN</td>\n",
       "      <td>NaN</td>\n",
       "      <td>NaN</td>\n",
       "      <td>NaN</td>\n",
       "      <td>NaN</td>\n",
       "    </tr>\n",
       "    <tr>\n",
       "      <th>max</th>\n",
       "      <td>54091.000000</td>\n",
       "      <td>703.000000</td>\n",
       "      <td>0.0</td>\n",
       "      <td>54091.000000</td>\n",
       "      <td>55837.340000</td>\n",
       "      <td>100.000000</td>\n",
       "      <td>15602.740000</td>\n",
       "      <td>15602.740000</td>\n",
       "      <td>10150.000000</td>\n",
       "      <td>11467.000000</td>\n",
       "      <td>...</td>\n",
       "      <td>NaN</td>\n",
       "      <td>NaN</td>\n",
       "      <td>NaN</td>\n",
       "      <td>NaN</td>\n",
       "      <td>NaN</td>\n",
       "      <td>NaN</td>\n",
       "      <td>NaN</td>\n",
       "      <td>NaN</td>\n",
       "      <td>NaN</td>\n",
       "      <td>NaN</td>\n",
       "    </tr>\n",
       "  </tbody>\n",
       "</table>\n",
       "<p>8 rows × 21 columns</p>\n",
       "</div>"
      ],
      "text/plain": [
       "           Subtotal      Shipping    Taxes         Total  Discount Amount  \\\n",
       "count  24894.000000  24894.000000  24894.0  24894.000000     24894.000000   \n",
       "mean    1800.314196     44.305841      0.0   1844.648156       426.802867   \n",
       "std     2157.777693     45.789890      0.0   2151.154461      1064.760566   \n",
       "min        0.000000      0.000000      0.0      0.000000         0.000000   \n",
       "25%      615.000000      0.000000      0.0    660.000000         0.000000   \n",
       "50%     1189.000000     50.000000      0.0   1210.000000         0.000000   \n",
       "75%     2200.000000     60.000000      0.0   2230.000000       400.000000   \n",
       "max    54091.000000    703.000000      0.0  54091.000000     55837.340000   \n",
       "\n",
       "       Lineitem quantity  Lineitem price  Lineitem compare at price  \\\n",
       "count       80511.000000    80511.000000               54219.000000   \n",
       "mean            1.379700      572.448623                 594.279383   \n",
       "std             1.147936      607.131281                 864.102863   \n",
       "min             1.000000        0.000000                   0.000000   \n",
       "25%             1.000000      200.000000                   0.000000   \n",
       "50%             1.000000      372.000000                 285.000000   \n",
       "75%             1.000000      700.000000                 730.000000   \n",
       "max           100.000000    15602.740000               15602.740000   \n",
       "\n",
       "       Refunded Amount  Lineitem discount  ...  Tax 1 Value  Tax 2 Name  \\\n",
       "count     24894.000000       80511.000000  ...          0.0         0.0   \n",
       "mean         18.398876         126.960674  ...          NaN         NaN   \n",
       "std         216.012285         380.948653  ...          NaN         NaN   \n",
       "min           0.000000           0.000000  ...          NaN         NaN   \n",
       "25%           0.000000           0.000000  ...          NaN         NaN   \n",
       "50%           0.000000           0.000000  ...          NaN         NaN   \n",
       "75%           0.000000           0.000000  ...          NaN         NaN   \n",
       "max       10150.000000       11467.000000  ...          NaN         NaN   \n",
       "\n",
       "       Tax 2 Value  Tax 3 Name  Tax 3 Value  Tax 4 Name  Tax 4 Value  \\\n",
       "count          0.0         0.0          0.0         0.0          0.0   \n",
       "mean           NaN         NaN          NaN         NaN          NaN   \n",
       "std            NaN         NaN          NaN         NaN          NaN   \n",
       "min            NaN         NaN          NaN         NaN          NaN   \n",
       "25%            NaN         NaN          NaN         NaN          NaN   \n",
       "50%            NaN         NaN          NaN         NaN          NaN   \n",
       "75%            NaN         NaN          NaN         NaN          NaN   \n",
       "max            NaN         NaN          NaN         NaN          NaN   \n",
       "\n",
       "       Tax 5 Name  Tax 5 Value  Duties  \n",
       "count         0.0          0.0     0.0  \n",
       "mean          NaN          NaN     NaN  \n",
       "std           NaN          NaN     NaN  \n",
       "min           NaN          NaN     NaN  \n",
       "25%           NaN          NaN     NaN  \n",
       "50%           NaN          NaN     NaN  \n",
       "75%           NaN          NaN     NaN  \n",
       "max           NaN          NaN     NaN  \n",
       "\n",
       "[8 rows x 21 columns]"
      ]
     },
     "execution_count": 4,
     "metadata": {},
     "output_type": "execute_result"
    }
   ],
   "source": [
    "df.describe()"
   ]
  },
  {
   "cell_type": "code",
   "execution_count": 5,
   "metadata": {},
   "outputs": [
    {
     "data": {
      "text/plain": [
       "Index(['Tax 1 Name', 'Tax 1 Value', 'Tax 2 Name', 'Tax 2 Value', 'Tax 3 Name',\n",
       "       'Tax 3 Value', 'Tax 4 Name', 'Tax 4 Value', 'Tax 5 Name', 'Tax 5 Value',\n",
       "       'Duties'],\n",
       "      dtype='object')"
      ]
     },
     "execution_count": 5,
     "metadata": {},
     "output_type": "execute_result"
    }
   ],
   "source": [
    "columns = df.columns[df.notna().sum() == 0]\n",
    "columns"
   ]
  },
  {
   "cell_type": "code",
   "execution_count": null,
   "metadata": {},
   "outputs": [],
   "source": [
    "df.drop(columns, axis=1, inplace=True)"
   ]
  },
  {
   "cell_type": "code",
   "execution_count": 7,
   "metadata": {},
   "outputs": [
    {
     "data": {
      "text/plain": [
       "Index([], dtype='object')"
      ]
     },
     "execution_count": 7,
     "metadata": {},
     "output_type": "execute_result"
    }
   ],
   "source": [
    "columns = df.columns[df.notna().sum() == 0]\n",
    "columns"
   ]
  },
  {
   "cell_type": "code",
   "execution_count": null,
   "metadata": {},
   "outputs": [
    {
     "data": {
      "text/plain": [
       "Index(['Billing City', 'Billing Zip', 'Billing Province', 'Billing Country',\n",
       "       'Billing Province Name'],\n",
       "      dtype='object')"
      ]
     },
     "execution_count": 8,
     "metadata": {},
     "output_type": "execute_result"
    }
   ],
   "source": [
    "billing_columns = df.columns[df.columns.str.contains('Billing')]\n",
    "billing_columns"
   ]
  },
  {
   "cell_type": "code",
   "execution_count": 9,
   "metadata": {},
   "outputs": [],
   "source": [
    "df.drop(billing_columns, axis=1, inplace=True)"
   ]
  },
  {
   "cell_type": "code",
   "execution_count": 10,
   "metadata": {},
   "outputs": [
    {
     "data": {
      "text/plain": [
       "Index([], dtype='object')"
      ]
     },
     "execution_count": 10,
     "metadata": {},
     "output_type": "execute_result"
    }
   ],
   "source": [
    "billing_columns = df.columns[df.columns.str.contains('Billing')]\n",
    "billing_columns"
   ]
  },
  {
   "cell_type": "code",
   "execution_count": 11,
   "metadata": {},
   "outputs": [],
   "source": [
    "columns_to_drop = ['Source','Risk Level','Tags','Shipping Country','Shipping City','Lineitem fulfillment status','Lineitem taxable','Lineitem requires shipping','Taxes','Currency','Fulfilled at','Fulfillment Status','Paid at','Financial Status']\n",
    "\n",
    "df.drop(columns_to_drop, axis=1, inplace=True)"
   ]
  },
  {
   "cell_type": "code",
   "execution_count": 12,
   "metadata": {},
   "outputs": [
    {
     "data": {
      "text/plain": [
       "Index(['Name', 'Subtotal', 'Shipping', 'Total', 'Discount Amount',\n",
       "       'Shipping Method', 'Created at', 'Lineitem quantity', 'Lineitem name',\n",
       "       'Lineitem price', 'Lineitem compare at price', 'Lineitem sku',\n",
       "       'Shipping Province', 'Cancelled at', 'Payment Method',\n",
       "       'Refunded Amount', 'Lineitem discount', 'Shipping Province Name'],\n",
       "      dtype='object')"
      ]
     },
     "execution_count": 12,
     "metadata": {},
     "output_type": "execute_result"
    }
   ],
   "source": [
    "df.columns"
   ]
  },
  {
   "cell_type": "code",
   "execution_count": 13,
   "metadata": {},
   "outputs": [
    {
     "name": "stdout",
     "output_type": "stream",
     "text": [
      "<class 'pandas.core.frame.DataFrame'>\n",
      "RangeIndex: 80511 entries, 0 to 80510\n",
      "Data columns (total 18 columns):\n",
      " #   Column                     Non-Null Count  Dtype  \n",
      "---  ------                     --------------  -----  \n",
      " 0   Name                       80511 non-null  object \n",
      " 1   Subtotal                   24894 non-null  float64\n",
      " 2   Shipping                   24894 non-null  float64\n",
      " 3   Total                      24894 non-null  float64\n",
      " 4   Discount Amount            24894 non-null  float64\n",
      " 5   Shipping Method            23678 non-null  object \n",
      " 6   Created at                 80511 non-null  object \n",
      " 7   Lineitem quantity          80511 non-null  int64  \n",
      " 8   Lineitem name              80511 non-null  object \n",
      " 9   Lineitem price             80511 non-null  float64\n",
      " 10  Lineitem compare at price  54219 non-null  float64\n",
      " 11  Lineitem sku               78634 non-null  object \n",
      " 12  Shipping Province          24741 non-null  object \n",
      " 13  Cancelled at               3361 non-null   object \n",
      " 14  Payment Method             24738 non-null  object \n",
      " 15  Refunded Amount            24894 non-null  float64\n",
      " 16  Lineitem discount          80511 non-null  float64\n",
      " 17  Shipping Province Name     24741 non-null  object \n",
      "dtypes: float64(8), int64(1), object(9)\n",
      "memory usage: 11.1+ MB\n"
     ]
    }
   ],
   "source": [
    "df.info()"
   ]
  },
  {
   "cell_type": "code",
   "execution_count": 14,
   "metadata": {},
   "outputs": [
    {
     "name": "stderr",
     "output_type": "stream",
     "text": [
      "/var/folders/rd/rm1ghq0950j6l712s6ykcc5w0000gn/T/ipykernel_37351/3349422490.py:10: FutureWarning: DataFrame.fillna with 'method' is deprecated and will raise in a future version. Use obj.ffill() or obj.bfill() instead.\n",
      "  df[order_columns] = df[order_columns].fillna(method=\"ffill\")\n"
     ]
    }
   ],
   "source": [
    "\n",
    "# Load Data (Replace with actual file)\n",
    "# df = pd.read_csv(\"depi2.csv\")\n",
    "\n",
    "# Convert 'Created at' to datetime\n",
    "# df[\"Created at\"] = pd.to_datetime(df[\"Created at\"])\n",
    "\n",
    "# Forward-fill order-level details\n",
    "order_columns = [\"Subtotal\", \"Shipping\", \"Total\", \"Discount Amount\", \"Shipping Method\",\n",
    "                 \"Shipping Province\", \"Shipping Province Name\", \"Payment Method\", \"Created at\"]\n",
    "df[order_columns] = df[order_columns].fillna(method=\"ffill\")\n",
    "\n",
    "# Group by Order ID, concatenating item names and quantities\n",
    "df_grouped = df.groupby(\"Name\").agg({\n",
    "    \"Created at\": \"first\",  # Take the first value\n",
    "    \"Subtotal\": \"first\",\n",
    "    \"Shipping\": \"first\",\n",
    "    \"Total\": \"first\",\n",
    "    \"Discount Amount\": \"first\",\n",
    "    \"Shipping Method\": \"first\",\n",
    "    \"Shipping Province\": \"first\",\n",
    "    \"Shipping Province Name\": \"first\",\n",
    "    \"Payment Method\": \"first\",\n",
    "    \"Lineitem name\": lambda x: \", \".join(x),  # Join all items into one column\n",
    "    \"Lineitem price\": lambda x: \", \".join(map(str, x)),  # Join all prices\n",
    "    \"Lineitem compare at price\": lambda x: \", \".join(map(str, x)),  # Join all compare at prices\n",
    "    \"Lineitem sku\": lambda x: \", \".join(map(str, x)),  # Join all SKUs\n",
    "    \"Lineitem quantity\": lambda x: \", \".join(map(str, x)), # Join all quantities\n",
    "    \"Lineitem discount\": lambda x: \", \".join(map(str, x)),  # Join all discounts\n",
    "    \"Cancelled at\": \"first\",\n",
    "    \"Refunded Amount\": \"first\"\n",
    "}).reset_index()\n",
    "\n",
    "df_grouped.to_csv(\"depi_grouped.csv\", index=False)"
   ]
  }
 ],
 "metadata": {
  "kernelspec": {
   "display_name": "Python 3",
   "language": "python",
   "name": "python3"
  },
  "language_info": {
   "codemirror_mode": {
    "name": "ipython",
    "version": 3
   },
   "file_extension": ".py",
   "mimetype": "text/x-python",
   "name": "python",
   "nbconvert_exporter": "python",
   "pygments_lexer": "ipython3",
   "version": "3.9.6"
  }
 },
 "nbformat": 4,
 "nbformat_minor": 2
}
